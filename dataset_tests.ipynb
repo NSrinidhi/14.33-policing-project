{
 "cells": [
  {
   "cell_type": "markdown",
   "metadata": {},
   "source": [
    "To do:\n",
    "-Try operations for a single year's data first (all preprocessing steps)\n",
    "\n",
    "Preprocessing notes (single year, multi years, etc)\n",
    "\n",
    "Filtration based on shootings procedure:\n",
    "\n",
    "(1*) Retain any municipality where a shooting occurred ever (when working with a single year, it doesn't really matter, just filter based on shooting)\n",
    "\n",
    "Over many years, this may include places with changed crime profiles, which is bad\n",
    "\n",
    "\n"
   ]
  },
  {
   "cell_type": "markdown",
   "metadata": {},
   "source": [
    "(2*) Retain all data for a year in a municipality when there was a shooting that year (same as option 1* for a single year's data)\n",
    "\n",
    "Over many years, this means retaining all samples from the year where the shooting ocurred for that municipality; this has the benefit of interpretability: every sample is just a troubled year municipality"
   ]
  },
  {
   "cell_type": "markdown",
   "metadata": {},
   "source": [
    "Post column creation:\n",
    "\n",
    "Need to make post-1, post-2, ... , post-6 month indicator columns (initialize to 0)\n",
    "\n",
    "Figure out how to do this efficiently LOL\n",
    "\n",
    "Pre column creation:\n",
    "\n",
    "Need to make a pre (treatment) column (post = -1 in estimating equation) (use shift=-1, think about whether min/max needs to be changed)\n"
   ]
  },
  {
   "cell_type": "markdown",
   "metadata": {},
   "source": [
    "Column transformations\n",
    "\n",
    "Total assaults, total killings\n",
    "    \n",
    "z-scored force sizes, force size as a percentage of population column (check if it exists first)\n",
    "\n",
    "Join arrests, calculate total arrests, take log of arrests as new response variable\n",
    "\n",
    "Relevant summary statistics/notes to add in the introduction?\n",
    "\n",
    "Number of municipalities, number of municipalities preserved per year (on average) after filtration, number of officers shot and killed (on average) per year"
   ]
  },
  {
   "cell_type": "code",
   "execution_count": 83,
   "metadata": {},
   "outputs": [],
   "source": [
    "import pandas as pd\n",
    "import numpy as np\n",
    "import matplotlib.pyplot as plt\n",
    "from scipy.stats import zscore"
   ]
  },
  {
   "cell_type": "code",
   "execution_count": 84,
   "metadata": {},
   "outputs": [],
   "source": [
    "leoka_17_monthly = pd.read_stata('ucr_leoka_monthly_1960_2020_dta/leoka_monthly_2017.dta')\n",
    "leoka_17_monthly.shape\n",
    "leoka_17_monthly = leoka_17_monthly.iloc[:,:-198] #drop unnecessary columns"
   ]
  },
  {
   "cell_type": "code",
   "execution_count": 85,
   "metadata": {},
   "outputs": [],
   "source": [
    "leoka_17_monthly['total_assaults'] = leoka_17_monthly['assaults_no_injury_total'] + leoka_17_monthly['assaults_with_injury_total']\n",
    "\n",
    "#filter into only the municipalities where there was at least one assault that year\n",
    "officer_assaulted = (leoka_17_monthly['total_assaults'] > 0)\n",
    "ori_to_keep = leoka_17_monthly.loc[officer_assaulted, 'ori'].unique()\n",
    "leoka_17_monthly = leoka_17_monthly[leoka_17_monthly['ori'].isin(ori_to_keep)]\n",
    "\n",
    "#leoka_17_monthly.shape --> 66372 x 59, means 5531 municipalities were kept\n"
   ]
  },
  {
   "cell_type": "code",
   "execution_count": 86,
   "metadata": {},
   "outputs": [],
   "source": [
    "for i in range(7):\n",
    "    leoka_17_monthly[f'PreviousTreatment_{i}'] = leoka_17_monthly.groupby('ori')['officers_killed_total'].shift(i)\n",
    "    leoka_17_monthly[f'post_{i}'] = leoka_17_monthly[f'PreviousTreatment_{i}'] > 0\n",
    "\n",
    "    #don't do the idxmin thing, shouldn't matter since things are NaN where edge case shifts; drop the NaNs by removing the PreviousTreament_i columns\n",
    "\n",
    "    leoka_17_monthly[f'post_{i}'] = leoka_17_monthly[f'post_{i}'].astype(int)\n",
    "    leoka_17_monthly = leoka_17_monthly.drop(columns=[f'PreviousTreatment_{i}'])"
   ]
  },
  {
   "cell_type": "code",
   "execution_count": 89,
   "metadata": {},
   "outputs": [],
   "source": [
    "#column transformations\n",
    "\n",
    "#force size mechanism construction\n",
    "min_size, max_size = leoka_17_monthly['total_employees_officers'].min(), leoka_17_monthly['total_employees_officers'].max()\n",
    "leoka_17_monthly['employment_norm'] = (leoka_17_monthly['total_employees_officers'] - min_size)/(max_size - min_size) #defaults to 0-1 range\n",
    "\n",
    "median_condition = leoka_17_monthly['total_employees_officers'] > leoka_17_monthly['total_employees_officers'].median()\n",
    "trueval, falseval = 1, 0\n",
    "leoka_17_monthly['employment_median_indicator'] = np.where(median_condition, trueval, falseval)\n",
    "\n",
    "leoka_17_monthly['employment_pop_proportion'] = leoka_17_monthly['total_employees_officers']/leoka_17_monthly['population']\n",
    "prop_median_condition = leoka_17_monthly['employment_pop_proportion'] > leoka_17_monthly['employment_pop_proportion'].median()\n",
    "leoka_17_monthly['employment_pop_prop_indicator'] = np.where(prop_median_condition, trueval, falseval)"
   ]
  },
  {
   "cell_type": "code",
   "execution_count": null,
   "metadata": {},
   "outputs": [],
   "source": []
  }
 ],
 "metadata": {
  "kernelspec": {
   "display_name": "Python 3",
   "language": "python",
   "name": "python3"
  },
  "language_info": {
   "codemirror_mode": {
    "name": "ipython",
    "version": 3
   },
   "file_extension": ".py",
   "mimetype": "text/x-python",
   "name": "python",
   "nbconvert_exporter": "python",
   "pygments_lexer": "ipython3",
   "version": "3.9.6"
  }
 },
 "nbformat": 4,
 "nbformat_minor": 2
}
