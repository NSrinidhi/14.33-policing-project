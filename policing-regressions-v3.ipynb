{
 "cells": [
  {
   "cell_type": "markdown",
   "metadata": {},
   "source": [
    "This file creates the datasets, generates pre-trend variables, merges LEOKA and UCR data, and exports versions of the data for use in regressions 1 and 2 (no force size) and regression 3 (incorporates force size data)."
   ]
  },
  {
   "cell_type": "code",
   "execution_count": 2,
   "metadata": {},
   "outputs": [],
   "source": [
    "import pandas as pd\n",
    "import numpy as np\n",
    "import matplotlib.pyplot as plt\n",
    "from scipy.stats import zscore"
   ]
  },
  {
   "cell_type": "code",
   "execution_count": 4,
   "metadata": {},
   "outputs": [
    {
     "name": "stdout",
     "output_type": "stream",
     "text": [
      "(266424, 58)\n",
      "(267972, 58)\n",
      "(270288, 58)\n",
      "(271740, 58)\n",
      "(273408, 58)\n"
     ]
    }
   ],
   "source": [
    "#import LEOKA (law enforcement officers killed and assaulted) data\n",
    "\n",
    "leokas = ['ucr_leoka_monthly_1960_2020_dta/leoka_monthly_2017.dta',\n",
    "          'ucr_leoka_monthly_1960_2020_dta/leoka_monthly_2016.dta',\n",
    "          'ucr_leoka_monthly_1960_2020_dta/leoka_monthly_2015.dta',\n",
    "          'ucr_leoka_monthly_1960_2020_dta/leoka_monthly_2014.dta',\n",
    "          'ucr_leoka_monthly_1960_2020_dta/leoka_monthly_2013.dta']\n",
    "leoka_17, leoka_16, leoka_15, leoka_14, leoka_13 = pd.read_stata(leokas[0]), pd.read_stata(leokas[1]), pd.read_stata(leokas[2]), pd.read_stata(leokas[3]), pd.read_stata(leokas[4])\n",
    "\n",
    "dfs = [leoka_13, leoka_14, leoka_15, leoka_16, leoka_17]\n",
    "dfs = [i.iloc[:,:-198] for i in dfs]\n",
    "\n",
    "for j in dfs:\n",
    "    print(j.shape)"
   ]
  },
  {
   "cell_type": "code",
   "execution_count": 3,
   "metadata": {},
   "outputs": [
    {
     "data": {
      "text/plain": [
       "(1349832, 58)"
      ]
     },
     "execution_count": 3,
     "metadata": {},
     "output_type": "execute_result"
    }
   ],
   "source": [
    "df = pd.concat(dfs, ignore_index=True)\n",
    "df.shape"
   ]
  },
  {
   "cell_type": "code",
   "execution_count": 4,
   "metadata": {},
   "outputs": [],
   "source": [
    "#map months to integers up to 60 for ease of computation\n",
    "month_map = {'january': 1, 'february': 2, 'march': 3, 'april': 4, 'may': 5, 'june': 6, 'july': 7, 'august': 8, 'september': 9, 'october': 10, 'november': 11, 'december': 12}\n",
    "df['month_code'] = df['month'].map(month_map) + (df['year'] - 2013)*12"
   ]
  },
  {
   "cell_type": "code",
   "execution_count": 5,
   "metadata": {},
   "outputs": [
    {
     "data": {
      "text/html": [
       "<div>\n",
       "<style scoped>\n",
       "    .dataframe tbody tr th:only-of-type {\n",
       "        vertical-align: middle;\n",
       "    }\n",
       "\n",
       "    .dataframe tbody tr th {\n",
       "        vertical-align: top;\n",
       "    }\n",
       "\n",
       "    .dataframe thead th {\n",
       "        text-align: right;\n",
       "    }\n",
       "</style>\n",
       "<table border=\"1\" class=\"dataframe\">\n",
       "  <thead>\n",
       "    <tr style=\"text-align: right;\">\n",
       "      <th></th>\n",
       "      <th>ori</th>\n",
       "      <th>agency_name</th>\n",
       "      <th>state</th>\n",
       "      <th>state_abb</th>\n",
       "      <th>number_of_months_reported</th>\n",
       "      <th>year</th>\n",
       "      <th>month</th>\n",
       "      <th>date</th>\n",
       "      <th>ori9</th>\n",
       "      <th>fips_state_code</th>\n",
       "      <th>...</th>\n",
       "      <th>assaults_with_injury_knife</th>\n",
       "      <th>assaults_with_injury_oth_weap</th>\n",
       "      <th>assaults_with_injury_unarmed</th>\n",
       "      <th>assaults_with_injury_total</th>\n",
       "      <th>assaults_no_injury_gun</th>\n",
       "      <th>assaults_no_injury_knife</th>\n",
       "      <th>assaults_no_injury_oth_weap</th>\n",
       "      <th>assaults_no_injury_unarmed</th>\n",
       "      <th>assaults_no_injury_total</th>\n",
       "      <th>month_code</th>\n",
       "    </tr>\n",
       "  </thead>\n",
       "  <tbody>\n",
       "    <tr>\n",
       "      <th>0</th>\n",
       "      <td>AK00101</td>\n",
       "      <td>anchorage</td>\n",
       "      <td>alaska</td>\n",
       "      <td>AK</td>\n",
       "      <td>12</td>\n",
       "      <td>2013</td>\n",
       "      <td>january</td>\n",
       "      <td>2013-01-01</td>\n",
       "      <td>AK0010100</td>\n",
       "      <td>02</td>\n",
       "      <td>...</td>\n",
       "      <td>0</td>\n",
       "      <td>0</td>\n",
       "      <td>0</td>\n",
       "      <td>0</td>\n",
       "      <td>1</td>\n",
       "      <td>1</td>\n",
       "      <td>1</td>\n",
       "      <td>27</td>\n",
       "      <td>30</td>\n",
       "      <td>1</td>\n",
       "    </tr>\n",
       "    <tr>\n",
       "      <th>1</th>\n",
       "      <td>AK00101</td>\n",
       "      <td>anchorage</td>\n",
       "      <td>alaska</td>\n",
       "      <td>AK</td>\n",
       "      <td>12</td>\n",
       "      <td>2013</td>\n",
       "      <td>february</td>\n",
       "      <td>2013-02-01</td>\n",
       "      <td>AK0010100</td>\n",
       "      <td>02</td>\n",
       "      <td>...</td>\n",
       "      <td>0</td>\n",
       "      <td>1</td>\n",
       "      <td>1</td>\n",
       "      <td>2</td>\n",
       "      <td>0</td>\n",
       "      <td>0</td>\n",
       "      <td>9</td>\n",
       "      <td>13</td>\n",
       "      <td>22</td>\n",
       "      <td>2</td>\n",
       "    </tr>\n",
       "    <tr>\n",
       "      <th>2</th>\n",
       "      <td>AK00101</td>\n",
       "      <td>anchorage</td>\n",
       "      <td>alaska</td>\n",
       "      <td>AK</td>\n",
       "      <td>12</td>\n",
       "      <td>2013</td>\n",
       "      <td>march</td>\n",
       "      <td>2013-03-01</td>\n",
       "      <td>AK0010100</td>\n",
       "      <td>02</td>\n",
       "      <td>...</td>\n",
       "      <td>0</td>\n",
       "      <td>1</td>\n",
       "      <td>2</td>\n",
       "      <td>3</td>\n",
       "      <td>0</td>\n",
       "      <td>0</td>\n",
       "      <td>6</td>\n",
       "      <td>19</td>\n",
       "      <td>25</td>\n",
       "      <td>3</td>\n",
       "    </tr>\n",
       "    <tr>\n",
       "      <th>3</th>\n",
       "      <td>AK00101</td>\n",
       "      <td>anchorage</td>\n",
       "      <td>alaska</td>\n",
       "      <td>AK</td>\n",
       "      <td>12</td>\n",
       "      <td>2013</td>\n",
       "      <td>april</td>\n",
       "      <td>2013-04-01</td>\n",
       "      <td>AK0010100</td>\n",
       "      <td>02</td>\n",
       "      <td>...</td>\n",
       "      <td>0</td>\n",
       "      <td>0</td>\n",
       "      <td>0</td>\n",
       "      <td>0</td>\n",
       "      <td>2</td>\n",
       "      <td>0</td>\n",
       "      <td>2</td>\n",
       "      <td>15</td>\n",
       "      <td>19</td>\n",
       "      <td>4</td>\n",
       "    </tr>\n",
       "    <tr>\n",
       "      <th>4</th>\n",
       "      <td>AK00101</td>\n",
       "      <td>anchorage</td>\n",
       "      <td>alaska</td>\n",
       "      <td>AK</td>\n",
       "      <td>12</td>\n",
       "      <td>2013</td>\n",
       "      <td>may</td>\n",
       "      <td>2013-05-01</td>\n",
       "      <td>AK0010100</td>\n",
       "      <td>02</td>\n",
       "      <td>...</td>\n",
       "      <td>0</td>\n",
       "      <td>0</td>\n",
       "      <td>0</td>\n",
       "      <td>0</td>\n",
       "      <td>0</td>\n",
       "      <td>0</td>\n",
       "      <td>6</td>\n",
       "      <td>17</td>\n",
       "      <td>23</td>\n",
       "      <td>5</td>\n",
       "    </tr>\n",
       "    <tr>\n",
       "      <th>5</th>\n",
       "      <td>AK00101</td>\n",
       "      <td>anchorage</td>\n",
       "      <td>alaska</td>\n",
       "      <td>AK</td>\n",
       "      <td>12</td>\n",
       "      <td>2013</td>\n",
       "      <td>june</td>\n",
       "      <td>2013-06-01</td>\n",
       "      <td>AK0010100</td>\n",
       "      <td>02</td>\n",
       "      <td>...</td>\n",
       "      <td>0</td>\n",
       "      <td>0</td>\n",
       "      <td>0</td>\n",
       "      <td>0</td>\n",
       "      <td>2</td>\n",
       "      <td>2</td>\n",
       "      <td>3</td>\n",
       "      <td>17</td>\n",
       "      <td>24</td>\n",
       "      <td>6</td>\n",
       "    </tr>\n",
       "    <tr>\n",
       "      <th>6</th>\n",
       "      <td>AK00101</td>\n",
       "      <td>anchorage</td>\n",
       "      <td>alaska</td>\n",
       "      <td>AK</td>\n",
       "      <td>12</td>\n",
       "      <td>2013</td>\n",
       "      <td>july</td>\n",
       "      <td>2013-07-01</td>\n",
       "      <td>AK0010100</td>\n",
       "      <td>02</td>\n",
       "      <td>...</td>\n",
       "      <td>0</td>\n",
       "      <td>2</td>\n",
       "      <td>1</td>\n",
       "      <td>3</td>\n",
       "      <td>0</td>\n",
       "      <td>1</td>\n",
       "      <td>0</td>\n",
       "      <td>15</td>\n",
       "      <td>16</td>\n",
       "      <td>7</td>\n",
       "    </tr>\n",
       "    <tr>\n",
       "      <th>7</th>\n",
       "      <td>AK00101</td>\n",
       "      <td>anchorage</td>\n",
       "      <td>alaska</td>\n",
       "      <td>AK</td>\n",
       "      <td>12</td>\n",
       "      <td>2013</td>\n",
       "      <td>august</td>\n",
       "      <td>2013-08-01</td>\n",
       "      <td>AK0010100</td>\n",
       "      <td>02</td>\n",
       "      <td>...</td>\n",
       "      <td>0</td>\n",
       "      <td>0</td>\n",
       "      <td>0</td>\n",
       "      <td>0</td>\n",
       "      <td>0</td>\n",
       "      <td>0</td>\n",
       "      <td>3</td>\n",
       "      <td>13</td>\n",
       "      <td>16</td>\n",
       "      <td>8</td>\n",
       "    </tr>\n",
       "    <tr>\n",
       "      <th>8</th>\n",
       "      <td>AK00101</td>\n",
       "      <td>anchorage</td>\n",
       "      <td>alaska</td>\n",
       "      <td>AK</td>\n",
       "      <td>12</td>\n",
       "      <td>2013</td>\n",
       "      <td>september</td>\n",
       "      <td>2013-09-01</td>\n",
       "      <td>AK0010100</td>\n",
       "      <td>02</td>\n",
       "      <td>...</td>\n",
       "      <td>0</td>\n",
       "      <td>0</td>\n",
       "      <td>0</td>\n",
       "      <td>0</td>\n",
       "      <td>0</td>\n",
       "      <td>0</td>\n",
       "      <td>1</td>\n",
       "      <td>11</td>\n",
       "      <td>12</td>\n",
       "      <td>9</td>\n",
       "    </tr>\n",
       "    <tr>\n",
       "      <th>9</th>\n",
       "      <td>AK00101</td>\n",
       "      <td>anchorage</td>\n",
       "      <td>alaska</td>\n",
       "      <td>AK</td>\n",
       "      <td>12</td>\n",
       "      <td>2013</td>\n",
       "      <td>october</td>\n",
       "      <td>2013-10-01</td>\n",
       "      <td>AK0010100</td>\n",
       "      <td>02</td>\n",
       "      <td>...</td>\n",
       "      <td>0</td>\n",
       "      <td>0</td>\n",
       "      <td>3</td>\n",
       "      <td>3</td>\n",
       "      <td>2</td>\n",
       "      <td>0</td>\n",
       "      <td>3</td>\n",
       "      <td>14</td>\n",
       "      <td>19</td>\n",
       "      <td>10</td>\n",
       "    </tr>\n",
       "  </tbody>\n",
       "</table>\n",
       "<p>10 rows × 59 columns</p>\n",
       "</div>"
      ],
      "text/plain": [
       "       ori agency_name   state state_abb  number_of_months_reported  year  \\\n",
       "0  AK00101   anchorage  alaska        AK                         12  2013   \n",
       "1  AK00101   anchorage  alaska        AK                         12  2013   \n",
       "2  AK00101   anchorage  alaska        AK                         12  2013   \n",
       "3  AK00101   anchorage  alaska        AK                         12  2013   \n",
       "4  AK00101   anchorage  alaska        AK                         12  2013   \n",
       "5  AK00101   anchorage  alaska        AK                         12  2013   \n",
       "6  AK00101   anchorage  alaska        AK                         12  2013   \n",
       "7  AK00101   anchorage  alaska        AK                         12  2013   \n",
       "8  AK00101   anchorage  alaska        AK                         12  2013   \n",
       "9  AK00101   anchorage  alaska        AK                         12  2013   \n",
       "\n",
       "       month        date       ori9 fips_state_code  ...  \\\n",
       "0    january  2013-01-01  AK0010100              02  ...   \n",
       "1   february  2013-02-01  AK0010100              02  ...   \n",
       "2      march  2013-03-01  AK0010100              02  ...   \n",
       "3      april  2013-04-01  AK0010100              02  ...   \n",
       "4        may  2013-05-01  AK0010100              02  ...   \n",
       "5       june  2013-06-01  AK0010100              02  ...   \n",
       "6       july  2013-07-01  AK0010100              02  ...   \n",
       "7     august  2013-08-01  AK0010100              02  ...   \n",
       "8  september  2013-09-01  AK0010100              02  ...   \n",
       "9    october  2013-10-01  AK0010100              02  ...   \n",
       "\n",
       "  assaults_with_injury_knife assaults_with_injury_oth_weap  \\\n",
       "0                          0                             0   \n",
       "1                          0                             1   \n",
       "2                          0                             1   \n",
       "3                          0                             0   \n",
       "4                          0                             0   \n",
       "5                          0                             0   \n",
       "6                          0                             2   \n",
       "7                          0                             0   \n",
       "8                          0                             0   \n",
       "9                          0                             0   \n",
       "\n",
       "  assaults_with_injury_unarmed assaults_with_injury_total  \\\n",
       "0                            0                          0   \n",
       "1                            1                          2   \n",
       "2                            2                          3   \n",
       "3                            0                          0   \n",
       "4                            0                          0   \n",
       "5                            0                          0   \n",
       "6                            1                          3   \n",
       "7                            0                          0   \n",
       "8                            0                          0   \n",
       "9                            3                          3   \n",
       "\n",
       "  assaults_no_injury_gun assaults_no_injury_knife assaults_no_injury_oth_weap  \\\n",
       "0                      1                        1                           1   \n",
       "1                      0                        0                           9   \n",
       "2                      0                        0                           6   \n",
       "3                      2                        0                           2   \n",
       "4                      0                        0                           6   \n",
       "5                      2                        2                           3   \n",
       "6                      0                        1                           0   \n",
       "7                      0                        0                           3   \n",
       "8                      0                        0                           1   \n",
       "9                      2                        0                           3   \n",
       "\n",
       "  assaults_no_injury_unarmed assaults_no_injury_total month_code  \n",
       "0                         27                       30          1  \n",
       "1                         13                       22          2  \n",
       "2                         19                       25          3  \n",
       "3                         15                       19          4  \n",
       "4                         17                       23          5  \n",
       "5                         17                       24          6  \n",
       "6                         15                       16          7  \n",
       "7                         13                       16          8  \n",
       "8                         11                       12          9  \n",
       "9                         14                       19         10  \n",
       "\n",
       "[10 rows x 59 columns]"
      ]
     },
     "execution_count": 5,
     "metadata": {},
     "output_type": "execute_result"
    }
   ],
   "source": [
    "df.head(10)"
   ]
  },
  {
   "cell_type": "code",
   "execution_count": 6,
   "metadata": {},
   "outputs": [],
   "source": [
    "#indicators for officers killed and officers ever assaulted\n",
    "df['killed_indicator'] = np.where(df['officers_killed_total'] > 0, 1, 0)\n",
    "\n",
    "df['total_assaults'] = df['assaults_no_injury_total'] + df['assaults_with_injury_total']\n",
    "officer_assaulted = (df['total_assaults'] > 0)"
   ]
  },
  {
   "cell_type": "code",
   "execution_count": 9,
   "metadata": {},
   "outputs": [
    {
     "data": {
      "text/plain": [
       "(532356, 61)"
      ]
     },
     "execution_count": 9,
     "metadata": {},
     "output_type": "execute_result"
    }
   ],
   "source": [
    "#restrict sample to officers ever assaulted\n",
    "ori_to_keep = df.loc[officer_assaulted, 'ori'].unique()\n",
    "df = df[df['ori'].isin(ori_to_keep)]\n",
    "df.shape\n",
    "df.columns"
   ]
  },
  {
   "cell_type": "code",
   "execution_count": 17,
   "metadata": {},
   "outputs": [],
   "source": [
    "#add sizes for all municipalities according to first observation per municipality\n",
    "df['first_pop'] = df.groupby('ori')['population'].transform('first')\n",
    "df['first_employment'] = df.groupby('ori')['total_employees_officers'].transform('first')"
   ]
  },
  {
   "cell_type": "code",
   "execution_count": 18,
   "metadata": {},
   "outputs": [],
   "source": [
    "#column transformations\n",
    "\n",
    "#drop 0 pop rows to avoid division by 0\n",
    "df = df.loc[df['first_pop'] > 0]\n",
    "\n",
    "#force size mechanism construction\n",
    "median_condition = df['first_employment'] > df['first_employment'].median()\n",
    "trueval, falseval = 1, 0\n",
    "df['employment_median_indicator'] = np.where(median_condition, trueval, falseval)\n",
    "\n",
    "#proportion mechanism\n",
    "df['employment_pop_proportion'] = df['first_employment']/df['first_pop']\n",
    "prop_median_condition = df['employment_pop_proportion'] > df['employment_pop_proportion'].median()\n",
    "df['employment_pop_prop_indicator'] = np.where(prop_median_condition, trueval, falseval)"
   ]
  },
  {
   "cell_type": "code",
   "execution_count": 19,
   "metadata": {},
   "outputs": [],
   "source": [
    "df = df.sort_values(by=['ori', 'month_code'])"
   ]
  },
  {
   "cell_type": "code",
   "execution_count": 21,
   "metadata": {},
   "outputs": [],
   "source": [
    "#create post and pre indicators (for both shooting and implicitly killing)\n",
    "for i in range(10):\n",
    "    df[f'PreviousTreatment_{i}'] = df.groupby('ori')['total_assaults'].shift(i)\n",
    "    df[f'post_{i}'] = df[f'PreviousTreatment_{i}'] > 0\n",
    "\n",
    "    #don't do the idxmin thing, shouldn't matter since things are NaN where edge case shifts; drop the NaNs by removing the PreviousTreament_i columns\n",
    "\n",
    "    df[f'post_{i}'] = df[f'post_{i}'].astype(int)\n",
    "    df = df.drop(columns=[f'PreviousTreatment_{i}'])"
   ]
  },
  {
   "cell_type": "code",
   "execution_count": 22,
   "metadata": {},
   "outputs": [],
   "source": [
    "#make three pre-treatment month indicators (checking pre-trends)\n",
    "for i in range(1, 4, 1):\n",
    "    df[f'FutureTreatment_{i}'] = df.groupby('ori')['total_assaults'].shift(-1*i)\n",
    "    df[f'pre_{i}'] = df[f'FutureTreatment_{i}'] > 0\n",
    "    df[f'pre_{i}'] = df[f'pre_{i}'].astype(int)\n",
    "    df = df.drop(columns=[f'FutureTreatment_{i}'])"
   ]
  },
  {
   "cell_type": "code",
   "execution_count": 25,
   "metadata": {},
   "outputs": [],
   "source": [
    "#import UCR (uniform crime reporting) files for data on civilian arrests\n",
    "\n",
    "ucrs = ['ucr_arrests_monthly_index_1974_2018_dta/ucr_arrests_monthly_index_crimes_age_2017.dta',\n",
    "        'ucr_arrests_monthly_index_1974_2018_dta/ucr_arrests_monthly_index_crimes_age_2016.dta',\n",
    "        'ucr_arrests_monthly_index_1974_2018_dta/ucr_arrests_monthly_index_crimes_age_2015.dta',\n",
    "        'ucr_arrests_monthly_index_1974_2018_dta/ucr_arrests_monthly_index_crimes_age_2014.dta',\n",
    "        'ucr_arrests_monthly_index_1974_2018_dta/ucr_arrests_monthly_index_crimes_age_2013.dta']\n",
    "\n",
    "ucr_17, ucr_16, ucr_15, ucr_14, ucr_13 = pd.read_stata(ucrs[0]), pd.read_stata(ucrs[1]), pd.read_stata(ucrs[2]), pd.read_stata(ucrs[3]), pd.read_stata(ucrs[4])"
   ]
  },
  {
   "cell_type": "code",
   "execution_count": 26,
   "metadata": {},
   "outputs": [
    {
     "name": "stderr",
     "output_type": "stream",
     "text": [
      "/var/folders/5h/mg9jv4jj4_zc1dsmj4zsf1vm0000gn/T/ipykernel_50845/2892541529.py:3: PerformanceWarning: DataFrame is highly fragmented.  This is usually the result of calling `frame.insert` many times, which has poor performance.  Consider joining all columns at once using pd.concat(axis=1) instead. To get a de-fragmented frame, use `newframe = frame.copy()`\n",
      "  ucr['total_arrests'] = ucr['theft_tot_arrests'] + ucr['robbery_tot_arrests'] + ucr['rape_tot_arrests'] + ucr['murder_tot_arrests'] + ucr['mtr_veh_theft_tot_arrests'] + ucr['burglary_tot_arrests'] + ucr['arson_tot_arrests'] + ucr['agg_assault_tot_arrests']\n",
      "/Users/srinidhi/Library/Python/3.9/lib/python/site-packages/pandas/core/arraylike.py:396: RuntimeWarning: invalid value encountered in log\n",
      "  result = getattr(ufunc, method)(*inputs, **kwargs)\n",
      "/var/folders/5h/mg9jv4jj4_zc1dsmj4zsf1vm0000gn/T/ipykernel_50845/2892541529.py:4: PerformanceWarning: DataFrame is highly fragmented.  This is usually the result of calling `frame.insert` many times, which has poor performance.  Consider joining all columns at once using pd.concat(axis=1) instead. To get a de-fragmented frame, use `newframe = frame.copy()`\n",
      "  ucr['log_total_arrests'] = np.log(ucr['total_arrests'] + 1)\n"
     ]
    }
   ],
   "source": [
    "ucr_dfs = [ucr_13, ucr_14, ucr_15, ucr_16, ucr_17]\n",
    "ucr = pd.concat(ucr_dfs, ignore_index=True)\n",
    "\n",
    "ucr['total_arrests'] = ucr['theft_tot_arrests'] + ucr['robbery_tot_arrests'] + ucr['rape_tot_arrests'] + ucr['murder_tot_arrests'] + ucr['mtr_veh_theft_tot_arrests'] + ucr['burglary_tot_arrests'] + ucr['arson_tot_arrests'] + ucr['agg_assault_tot_arrests']\n",
    "ucr['log_total_arrests'] = np.log(ucr['total_arrests'] + 1)"
   ]
  },
  {
   "cell_type": "code",
   "execution_count": 27,
   "metadata": {},
   "outputs": [
    {
     "name": "stderr",
     "output_type": "stream",
     "text": [
      "/var/folders/5h/mg9jv4jj4_zc1dsmj4zsf1vm0000gn/T/ipykernel_50845/2433599158.py:1: PerformanceWarning: DataFrame is highly fragmented.  This is usually the result of calling `frame.insert` many times, which has poor performance.  Consider joining all columns at once using pd.concat(axis=1) instead. To get a de-fragmented frame, use `newframe = frame.copy()`\n",
      "  ucr['month_code'] = ucr['month'].map(month_map) + (ucr['year'] - 2013)*12\n"
     ]
    }
   ],
   "source": [
    "ucr['month_code'] = ucr['month'].map(month_map) + (ucr['year'] - 2013)*12\n",
    "df = df.drop_duplicates(subset=['ori', 'month_code'])\n",
    "ucr = ucr.drop_duplicates(subset=['ori', 'month_code'])"
   ]
  },
  {
   "cell_type": "code",
   "execution_count": 28,
   "metadata": {},
   "outputs": [
    {
     "data": {
      "text/plain": [
       "((465876, 80), (846711, 632), (465876, 709))"
      ]
     },
     "execution_count": 28,
     "metadata": {},
     "output_type": "execute_result"
    }
   ],
   "source": [
    "ucr.shape\n",
    "merged = pd.merge(df, ucr, on=['ori', 'month_code', 'year'], how='left')\n",
    "df.shape, ucr.shape, merged.shape"
   ]
  },
  {
   "cell_type": "code",
   "execution_count": 29,
   "metadata": {},
   "outputs": [],
   "source": [
    "#data to run first two stage regressions (no time horizon; 3-month pre-trended event study)\n",
    "merged.to_stata('event_study.dta')"
   ]
  },
  {
   "cell_type": "code",
   "execution_count": 30,
   "metadata": {},
   "outputs": [],
   "source": [
    "#dataset creation for stage 3\n",
    "overall_conditions = [(merged['post_0'] + merged['post_1'] + merged['post_2'] + merged['post_4'] + merged['post_5'] + merged['post_6'] +merged['post_7'] \n",
    "                       + merged['post_8'] + merged['post_9'] >= 1),\n",
    "                      (merged['pre_1'] + merged['pre_2'] + merged['pre_3'] >= 1)]\n",
    "overall_condition_values = [1, 0] #2 is default value\n",
    "merged['post_overall'] = np.select(overall_conditions, overall_condition_values, default=2)"
   ]
  },
  {
   "cell_type": "code",
   "execution_count": 31,
   "metadata": {},
   "outputs": [],
   "source": [
    "avg_data = merged.loc[merged['post_overall'] < 2]"
   ]
  },
  {
   "cell_type": "code",
   "execution_count": 32,
   "metadata": {},
   "outputs": [
    {
     "data": {
      "text/plain": [
       "((465876, 710), (270223, 710))"
      ]
     },
     "execution_count": 32,
     "metadata": {},
     "output_type": "execute_result"
    }
   ],
   "source": [
    "merged.shape, avg_data.shape"
   ]
  },
  {
   "cell_type": "code",
   "execution_count": 33,
   "metadata": {},
   "outputs": [],
   "source": [
    "avg_data.to_stata('DDD.dta')"
   ]
  }
 ],
 "metadata": {
  "kernelspec": {
   "display_name": "Python 3",
   "language": "python",
   "name": "python3"
  },
  "language_info": {
   "codemirror_mode": {
    "name": "ipython",
    "version": 3
   },
   "file_extension": ".py",
   "mimetype": "text/x-python",
   "name": "python",
   "nbconvert_exporter": "python",
   "pygments_lexer": "ipython3",
   "version": "3.9.6"
  }
 },
 "nbformat": 4,
 "nbformat_minor": 2
}
