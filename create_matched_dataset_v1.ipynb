{
 "cells": [
  {
   "cell_type": "markdown",
   "metadata": {},
   "source": [
    "This file implements creates a dataset with an implementation of matching via propensity score for more accurate controls (in contrast to the initial sample restriction)."
   ]
  },
  {
   "cell_type": "code",
   "execution_count": 1,
   "metadata": {},
   "outputs": [],
   "source": [
    "import pandas as pd\n",
    "import numpy as np\n",
    "import matplotlib.pyplot as plt\n",
    "from scipy.stats import ttest_ind"
   ]
  },
  {
   "cell_type": "code",
   "execution_count": 2,
   "metadata": {},
   "outputs": [
    {
     "name": "stdout",
     "output_type": "stream",
     "text": [
      "(266424, 58)\n",
      "(267972, 58)\n",
      "(270288, 58)\n",
      "(271740, 58)\n",
      "(273408, 58)\n"
     ]
    }
   ],
   "source": [
    "leokas = ['ucr_leoka_monthly_1960_2020_dta/leoka_monthly_2017.dta',\n",
    "          'ucr_leoka_monthly_1960_2020_dta/leoka_monthly_2016.dta',\n",
    "          'ucr_leoka_monthly_1960_2020_dta/leoka_monthly_2015.dta',\n",
    "          'ucr_leoka_monthly_1960_2020_dta/leoka_monthly_2014.dta',\n",
    "          'ucr_leoka_monthly_1960_2020_dta/leoka_monthly_2013.dta']\n",
    "leoka_17, leoka_16, leoka_15, leoka_14, leoka_13 = pd.read_stata(leokas[0]), pd.read_stata(leokas[1]), pd.read_stata(leokas[2]), pd.read_stata(leokas[3]), pd.read_stata(leokas[4])\n",
    "\n",
    "dfs = [leoka_13, leoka_14, leoka_15, leoka_16, leoka_17]\n",
    "dfs = [i.iloc[:,:-198] for i in dfs]\n",
    "\n",
    "for j in dfs:\n",
    "    print(j.shape)"
   ]
  },
  {
   "cell_type": "code",
   "execution_count": 3,
   "metadata": {},
   "outputs": [
    {
     "data": {
      "text/plain": [
       "(1349832, 58)"
      ]
     },
     "execution_count": 3,
     "metadata": {},
     "output_type": "execute_result"
    }
   ],
   "source": [
    "df = pd.concat(dfs, ignore_index=True)\n",
    "df.shape"
   ]
  },
  {
   "cell_type": "code",
   "execution_count": 4,
   "metadata": {},
   "outputs": [
    {
     "data": {
      "text/html": [
       "<div>\n",
       "<style scoped>\n",
       "    .dataframe tbody tr th:only-of-type {\n",
       "        vertical-align: middle;\n",
       "    }\n",
       "\n",
       "    .dataframe tbody tr th {\n",
       "        vertical-align: top;\n",
       "    }\n",
       "\n",
       "    .dataframe thead th {\n",
       "        text-align: right;\n",
       "    }\n",
       "</style>\n",
       "<table border=\"1\" class=\"dataframe\">\n",
       "  <thead>\n",
       "    <tr style=\"text-align: right;\">\n",
       "      <th></th>\n",
       "      <th>ori</th>\n",
       "      <th>agency_name</th>\n",
       "      <th>state</th>\n",
       "      <th>state_abb</th>\n",
       "      <th>number_of_months_reported</th>\n",
       "      <th>year</th>\n",
       "      <th>month</th>\n",
       "      <th>date</th>\n",
       "      <th>ori9</th>\n",
       "      <th>fips_state_code</th>\n",
       "      <th>...</th>\n",
       "      <th>assaults_with_injury_knife</th>\n",
       "      <th>assaults_with_injury_oth_weap</th>\n",
       "      <th>assaults_with_injury_unarmed</th>\n",
       "      <th>assaults_with_injury_total</th>\n",
       "      <th>assaults_no_injury_gun</th>\n",
       "      <th>assaults_no_injury_knife</th>\n",
       "      <th>assaults_no_injury_oth_weap</th>\n",
       "      <th>assaults_no_injury_unarmed</th>\n",
       "      <th>assaults_no_injury_total</th>\n",
       "      <th>month_code</th>\n",
       "    </tr>\n",
       "  </thead>\n",
       "  <tbody>\n",
       "    <tr>\n",
       "      <th>0</th>\n",
       "      <td>AK00101</td>\n",
       "      <td>anchorage</td>\n",
       "      <td>alaska</td>\n",
       "      <td>AK</td>\n",
       "      <td>12</td>\n",
       "      <td>2013</td>\n",
       "      <td>january</td>\n",
       "      <td>2013-01-01</td>\n",
       "      <td>AK0010100</td>\n",
       "      <td>02</td>\n",
       "      <td>...</td>\n",
       "      <td>0</td>\n",
       "      <td>0</td>\n",
       "      <td>0</td>\n",
       "      <td>0</td>\n",
       "      <td>1</td>\n",
       "      <td>1</td>\n",
       "      <td>1</td>\n",
       "      <td>27</td>\n",
       "      <td>30</td>\n",
       "      <td>1</td>\n",
       "    </tr>\n",
       "    <tr>\n",
       "      <th>1</th>\n",
       "      <td>AK00101</td>\n",
       "      <td>anchorage</td>\n",
       "      <td>alaska</td>\n",
       "      <td>AK</td>\n",
       "      <td>12</td>\n",
       "      <td>2013</td>\n",
       "      <td>february</td>\n",
       "      <td>2013-02-01</td>\n",
       "      <td>AK0010100</td>\n",
       "      <td>02</td>\n",
       "      <td>...</td>\n",
       "      <td>0</td>\n",
       "      <td>1</td>\n",
       "      <td>1</td>\n",
       "      <td>2</td>\n",
       "      <td>0</td>\n",
       "      <td>0</td>\n",
       "      <td>9</td>\n",
       "      <td>13</td>\n",
       "      <td>22</td>\n",
       "      <td>2</td>\n",
       "    </tr>\n",
       "    <tr>\n",
       "      <th>2</th>\n",
       "      <td>AK00101</td>\n",
       "      <td>anchorage</td>\n",
       "      <td>alaska</td>\n",
       "      <td>AK</td>\n",
       "      <td>12</td>\n",
       "      <td>2013</td>\n",
       "      <td>march</td>\n",
       "      <td>2013-03-01</td>\n",
       "      <td>AK0010100</td>\n",
       "      <td>02</td>\n",
       "      <td>...</td>\n",
       "      <td>0</td>\n",
       "      <td>1</td>\n",
       "      <td>2</td>\n",
       "      <td>3</td>\n",
       "      <td>0</td>\n",
       "      <td>0</td>\n",
       "      <td>6</td>\n",
       "      <td>19</td>\n",
       "      <td>25</td>\n",
       "      <td>3</td>\n",
       "    </tr>\n",
       "    <tr>\n",
       "      <th>3</th>\n",
       "      <td>AK00101</td>\n",
       "      <td>anchorage</td>\n",
       "      <td>alaska</td>\n",
       "      <td>AK</td>\n",
       "      <td>12</td>\n",
       "      <td>2013</td>\n",
       "      <td>april</td>\n",
       "      <td>2013-04-01</td>\n",
       "      <td>AK0010100</td>\n",
       "      <td>02</td>\n",
       "      <td>...</td>\n",
       "      <td>0</td>\n",
       "      <td>0</td>\n",
       "      <td>0</td>\n",
       "      <td>0</td>\n",
       "      <td>2</td>\n",
       "      <td>0</td>\n",
       "      <td>2</td>\n",
       "      <td>15</td>\n",
       "      <td>19</td>\n",
       "      <td>4</td>\n",
       "    </tr>\n",
       "    <tr>\n",
       "      <th>4</th>\n",
       "      <td>AK00101</td>\n",
       "      <td>anchorage</td>\n",
       "      <td>alaska</td>\n",
       "      <td>AK</td>\n",
       "      <td>12</td>\n",
       "      <td>2013</td>\n",
       "      <td>may</td>\n",
       "      <td>2013-05-01</td>\n",
       "      <td>AK0010100</td>\n",
       "      <td>02</td>\n",
       "      <td>...</td>\n",
       "      <td>0</td>\n",
       "      <td>0</td>\n",
       "      <td>0</td>\n",
       "      <td>0</td>\n",
       "      <td>0</td>\n",
       "      <td>0</td>\n",
       "      <td>6</td>\n",
       "      <td>17</td>\n",
       "      <td>23</td>\n",
       "      <td>5</td>\n",
       "    </tr>\n",
       "    <tr>\n",
       "      <th>5</th>\n",
       "      <td>AK00101</td>\n",
       "      <td>anchorage</td>\n",
       "      <td>alaska</td>\n",
       "      <td>AK</td>\n",
       "      <td>12</td>\n",
       "      <td>2013</td>\n",
       "      <td>june</td>\n",
       "      <td>2013-06-01</td>\n",
       "      <td>AK0010100</td>\n",
       "      <td>02</td>\n",
       "      <td>...</td>\n",
       "      <td>0</td>\n",
       "      <td>0</td>\n",
       "      <td>0</td>\n",
       "      <td>0</td>\n",
       "      <td>2</td>\n",
       "      <td>2</td>\n",
       "      <td>3</td>\n",
       "      <td>17</td>\n",
       "      <td>24</td>\n",
       "      <td>6</td>\n",
       "    </tr>\n",
       "    <tr>\n",
       "      <th>6</th>\n",
       "      <td>AK00101</td>\n",
       "      <td>anchorage</td>\n",
       "      <td>alaska</td>\n",
       "      <td>AK</td>\n",
       "      <td>12</td>\n",
       "      <td>2013</td>\n",
       "      <td>july</td>\n",
       "      <td>2013-07-01</td>\n",
       "      <td>AK0010100</td>\n",
       "      <td>02</td>\n",
       "      <td>...</td>\n",
       "      <td>0</td>\n",
       "      <td>2</td>\n",
       "      <td>1</td>\n",
       "      <td>3</td>\n",
       "      <td>0</td>\n",
       "      <td>1</td>\n",
       "      <td>0</td>\n",
       "      <td>15</td>\n",
       "      <td>16</td>\n",
       "      <td>7</td>\n",
       "    </tr>\n",
       "    <tr>\n",
       "      <th>7</th>\n",
       "      <td>AK00101</td>\n",
       "      <td>anchorage</td>\n",
       "      <td>alaska</td>\n",
       "      <td>AK</td>\n",
       "      <td>12</td>\n",
       "      <td>2013</td>\n",
       "      <td>august</td>\n",
       "      <td>2013-08-01</td>\n",
       "      <td>AK0010100</td>\n",
       "      <td>02</td>\n",
       "      <td>...</td>\n",
       "      <td>0</td>\n",
       "      <td>0</td>\n",
       "      <td>0</td>\n",
       "      <td>0</td>\n",
       "      <td>0</td>\n",
       "      <td>0</td>\n",
       "      <td>3</td>\n",
       "      <td>13</td>\n",
       "      <td>16</td>\n",
       "      <td>8</td>\n",
       "    </tr>\n",
       "    <tr>\n",
       "      <th>8</th>\n",
       "      <td>AK00101</td>\n",
       "      <td>anchorage</td>\n",
       "      <td>alaska</td>\n",
       "      <td>AK</td>\n",
       "      <td>12</td>\n",
       "      <td>2013</td>\n",
       "      <td>september</td>\n",
       "      <td>2013-09-01</td>\n",
       "      <td>AK0010100</td>\n",
       "      <td>02</td>\n",
       "      <td>...</td>\n",
       "      <td>0</td>\n",
       "      <td>0</td>\n",
       "      <td>0</td>\n",
       "      <td>0</td>\n",
       "      <td>0</td>\n",
       "      <td>0</td>\n",
       "      <td>1</td>\n",
       "      <td>11</td>\n",
       "      <td>12</td>\n",
       "      <td>9</td>\n",
       "    </tr>\n",
       "    <tr>\n",
       "      <th>9</th>\n",
       "      <td>AK00101</td>\n",
       "      <td>anchorage</td>\n",
       "      <td>alaska</td>\n",
       "      <td>AK</td>\n",
       "      <td>12</td>\n",
       "      <td>2013</td>\n",
       "      <td>october</td>\n",
       "      <td>2013-10-01</td>\n",
       "      <td>AK0010100</td>\n",
       "      <td>02</td>\n",
       "      <td>...</td>\n",
       "      <td>0</td>\n",
       "      <td>0</td>\n",
       "      <td>3</td>\n",
       "      <td>3</td>\n",
       "      <td>2</td>\n",
       "      <td>0</td>\n",
       "      <td>3</td>\n",
       "      <td>14</td>\n",
       "      <td>19</td>\n",
       "      <td>10</td>\n",
       "    </tr>\n",
       "  </tbody>\n",
       "</table>\n",
       "<p>10 rows × 59 columns</p>\n",
       "</div>"
      ],
      "text/plain": [
       "       ori agency_name   state state_abb  number_of_months_reported  year  \\\n",
       "0  AK00101   anchorage  alaska        AK                         12  2013   \n",
       "1  AK00101   anchorage  alaska        AK                         12  2013   \n",
       "2  AK00101   anchorage  alaska        AK                         12  2013   \n",
       "3  AK00101   anchorage  alaska        AK                         12  2013   \n",
       "4  AK00101   anchorage  alaska        AK                         12  2013   \n",
       "5  AK00101   anchorage  alaska        AK                         12  2013   \n",
       "6  AK00101   anchorage  alaska        AK                         12  2013   \n",
       "7  AK00101   anchorage  alaska        AK                         12  2013   \n",
       "8  AK00101   anchorage  alaska        AK                         12  2013   \n",
       "9  AK00101   anchorage  alaska        AK                         12  2013   \n",
       "\n",
       "       month        date       ori9 fips_state_code  ...  \\\n",
       "0    january  2013-01-01  AK0010100              02  ...   \n",
       "1   february  2013-02-01  AK0010100              02  ...   \n",
       "2      march  2013-03-01  AK0010100              02  ...   \n",
       "3      april  2013-04-01  AK0010100              02  ...   \n",
       "4        may  2013-05-01  AK0010100              02  ...   \n",
       "5       june  2013-06-01  AK0010100              02  ...   \n",
       "6       july  2013-07-01  AK0010100              02  ...   \n",
       "7     august  2013-08-01  AK0010100              02  ...   \n",
       "8  september  2013-09-01  AK0010100              02  ...   \n",
       "9    october  2013-10-01  AK0010100              02  ...   \n",
       "\n",
       "  assaults_with_injury_knife assaults_with_injury_oth_weap  \\\n",
       "0                          0                             0   \n",
       "1                          0                             1   \n",
       "2                          0                             1   \n",
       "3                          0                             0   \n",
       "4                          0                             0   \n",
       "5                          0                             0   \n",
       "6                          0                             2   \n",
       "7                          0                             0   \n",
       "8                          0                             0   \n",
       "9                          0                             0   \n",
       "\n",
       "  assaults_with_injury_unarmed assaults_with_injury_total  \\\n",
       "0                            0                          0   \n",
       "1                            1                          2   \n",
       "2                            2                          3   \n",
       "3                            0                          0   \n",
       "4                            0                          0   \n",
       "5                            0                          0   \n",
       "6                            1                          3   \n",
       "7                            0                          0   \n",
       "8                            0                          0   \n",
       "9                            3                          3   \n",
       "\n",
       "  assaults_no_injury_gun assaults_no_injury_knife assaults_no_injury_oth_weap  \\\n",
       "0                      1                        1                           1   \n",
       "1                      0                        0                           9   \n",
       "2                      0                        0                           6   \n",
       "3                      2                        0                           2   \n",
       "4                      0                        0                           6   \n",
       "5                      2                        2                           3   \n",
       "6                      0                        1                           0   \n",
       "7                      0                        0                           3   \n",
       "8                      0                        0                           1   \n",
       "9                      2                        0                           3   \n",
       "\n",
       "  assaults_no_injury_unarmed assaults_no_injury_total month_code  \n",
       "0                         27                       30          1  \n",
       "1                         13                       22          2  \n",
       "2                         19                       25          3  \n",
       "3                         15                       19          4  \n",
       "4                         17                       23          5  \n",
       "5                         17                       24          6  \n",
       "6                         15                       16          7  \n",
       "7                         13                       16          8  \n",
       "8                         11                       12          9  \n",
       "9                         14                       19         10  \n",
       "\n",
       "[10 rows x 59 columns]"
      ]
     },
     "execution_count": 4,
     "metadata": {},
     "output_type": "execute_result"
    }
   ],
   "source": [
    "month_map = {'january': 1, 'february': 2, 'march': 3, 'april': 4, 'may': 5, 'june': 6, 'july': 7, 'august': 8, 'september': 9, 'october': 10, 'november': 11, 'december': 12}\n",
    "df['month_code'] = df['month'].map(month_map) + (df['year'] - 2013)*12\n",
    "df.head(10)"
   ]
  },
  {
   "cell_type": "code",
   "execution_count": 5,
   "metadata": {},
   "outputs": [
    {
     "data": {
      "text/plain": [
       "(15564, 61)"
      ]
     },
     "execution_count": 5,
     "metadata": {},
     "output_type": "execute_result"
    }
   ],
   "source": [
    "#start by making a dataset of treated municipalities for balance calculation\n",
    "df['total_assaults'] = df['assaults_no_injury_total'] + df['assaults_with_injury_total']\n",
    "officer_assaulted = (df['total_assaults'] > 0)\n",
    "df['killed_indicator'] = np.where(df['officers_killed_total'] > 0, 1, 0)\n",
    "officer_killed = (df['killed_indicator'] == 1)\n",
    "\n",
    "#making treated df\n",
    "treated_oris = df.loc[officer_killed, 'ori'].unique()\n",
    "treated_df = df[df['ori'].isin(treated_oris)]\n",
    "treated_df.shape"
   ]
  },
  {
   "cell_type": "code",
   "execution_count": 6,
   "metadata": {},
   "outputs": [
    {
     "data": {
      "text/plain": [
       "(1334268, 61)"
      ]
     },
     "execution_count": 6,
     "metadata": {},
     "output_type": "execute_result"
    }
   ],
   "source": [
    "#for comparison, drop the treated rows to make an untreated df\n",
    "df = df[df['ori'].isin(treated_oris) == False]\n",
    "df.shape"
   ]
  },
  {
   "cell_type": "code",
   "execution_count": 7,
   "metadata": {},
   "outputs": [
    {
     "data": {
      "text/plain": [
       "((15564, 61), (518592, 61), (1334268, 61))"
      ]
     },
     "execution_count": 7,
     "metadata": {},
     "output_type": "execute_result"
    }
   ],
   "source": [
    "#filter df further into a sample restricted df \n",
    "ori_to_keep = df.loc[officer_assaulted, 'ori'].unique()\n",
    "sr_df = df[df['ori'].isin(ori_to_keep)]\n",
    "treated_df.shape, sr_df.shape, df.shape, #df is untreated things, treated is anything with a killing, sr_df is sample-restricted? anything with a killing or attempted killing"
   ]
  },
  {
   "cell_type": "code",
   "execution_count": null,
   "metadata": {},
   "outputs": [],
   "source": [
    "#generate a couple of other variables of interest\n",
    "for i in [sr_df, treated_df, df]:\n",
    "    i['pct_female_officers'] = np.where(i['total_employees_officers'] > 0, i['female_employees_officers']/i['total_employees_officers'], 0)\n",
    "    i['pct_officers_civilians'] = np.where(i['total_employees_total'] > 0, i['total_employees_civilians']/i['total_employees_total'], 0)\n",
    "    i['pct_population_officers'] = np.where(i['population'] > 0, i['total_employees_total']/i['population'], 0)"
   ]
  },
  {
   "cell_type": "code",
   "execution_count": 12,
   "metadata": {},
   "outputs": [],
   "source": [
    "covariates = ['population', 'pct_female_officers', 'pct_officers_civilians', 'pct_population_officers', 'total_employees_total',\n",
    "              'assaults_with_injury_knife', 'assaults_with_injury_oth_weap', 'assaults_with_injury_unarmed', 'assaults_with_injury_total', 'total_assaults']"
   ]
  },
  {
   "cell_type": "markdown",
   "metadata": {},
   "source": [
    "Iteration 2 of t-tests: dropping largest cities"
   ]
  },
  {
   "cell_type": "code",
   "execution_count": 9,
   "metadata": {},
   "outputs": [
    {
     "data": {
      "text/plain": [
       "(1334148, 64)"
      ]
     },
     "execution_count": 9,
     "metadata": {},
     "output_type": "execute_result"
    }
   ],
   "source": [
    "top_10_pops = sorted(df.population.unique(), reverse=True)[:10]\n",
    "df_filt = df[~df['population'].isin(top_10_pops)]\n",
    "df_filt.shape"
   ]
  },
  {
   "cell_type": "code",
   "execution_count": 10,
   "metadata": {},
   "outputs": [
    {
     "data": {
      "text/plain": [
       "((518592, 64), (15564, 64))"
      ]
     },
     "execution_count": 10,
     "metadata": {},
     "output_type": "execute_result"
    }
   ],
   "source": [
    "treated_df_filt = treated_df[~treated_df['population'].isin(top_10_pops)]\n",
    "sr_df_filt = sr_df[~sr_df['population'].isin(top_10_pops)]\n",
    "sr_df_filt.shape, treated_df_filt.shape"
   ]
  },
  {
   "cell_type": "code",
   "execution_count": 14,
   "metadata": {},
   "outputs": [
    {
     "name": "stdout",
     "output_type": "stream",
     "text": [
      "for population: overall balance means: (162471.58905165768, 12308.173881758246) and t-stat: 314.05161618196587 and p-val: 0.0\n",
      "for pct_female_officers: overall balance means: (0.09097004948196198, 0.055312340259872375) and t-stat: 44.99979489692858 and p-val: 0.0\n",
      "for pct_officers_civilians: overall balance means: (0.2466978975325867, 0.14110424733328308) and t-stat: 71.75536697634887 and p-val: 0.0\n",
      "for pct_population_officers: overall balance means: (0.0024359990098380474, 0.002223649071195938) and t-stat: 1.3750847701041446 and p-val: 0.16910539366743713\n",
      "for total_employees_total: overall balance means: (521.8689282960678, 41.06803443096268) and t-stat: 206.47041340017674 and p-val: 0.0\n",
      "for assaults_with_injury_knife: overall balance means: (0.0049473143150860965, 0.0004707123947268219) and t-stat: 20.751500801037373 and p-val: 1.2299481236527433e-95\n",
      "for assaults_with_injury_oth_weap: overall balance means: (0.1195065535851966, 0.00685081415255279) and t-stat: 90.67637245105921 and p-val: 0.0\n",
      "for assaults_with_injury_unarmed: overall balance means: (0.8094962734515548, 0.045054221870437165) and t-stat: 164.82781087745707 and p-val: 0.0\n",
      "for assaults_with_injury_total: overall balance means: (0.9531611410948342, 0.05312079319535764) and t-stat: 167.6328520735488 and p-val: 0.0\n",
      "for total_assaults: overall balance means: (3.965047545618093, 0.17966597408983112) and t-stat: 198.0403268678443 and p-val: 0.0\n"
     ]
    }
   ],
   "source": [
    "for c in covariates:\n",
    "    m1, m2, m3 = np.mean(treated_df_filt[c]), np.mean(df_filt[c]), np.mean(sr_df_filt[c])\n",
    "    t_12, p_12 = ttest_ind(treated_df_filt[c], df_filt[c])\n",
    "    t_13, p_13 = ttest_ind(treated_df_filt[c], sr_df_filt[c])\n",
    "    print(f'for {c}: overall balance means: {m1, m2} and t-stat: {t_12} and p-val: {p_12}')\n",
    "    #print(f'for {c}: restricted balance means: {m1, m3} and t-stat: {t_13} and p-val: {p_13}')"
   ]
  },
  {
   "cell_type": "markdown",
   "metadata": {},
   "source": [
    "Now aggregate dataset by municipality and take the relevant features out: population_group, longitude, latitutde, country_division, pct_female_officers, pct_officers_civilians, pct_population_officers, shift_data, covered_by; label is killed_indicator"
   ]
  },
  {
   "cell_type": "code",
   "execution_count": 27,
   "metadata": {},
   "outputs": [
    {
     "data": {
      "text/plain": [
       "22524"
      ]
     },
     "execution_count": 27,
     "metadata": {},
     "output_type": "execute_result"
    }
   ],
   "source": [
    "len(treated_oris) #260\n",
    "len(df['ori'].unique()) #22524"
   ]
  },
  {
   "cell_type": "code",
   "execution_count": 10,
   "metadata": {},
   "outputs": [],
   "source": [
    "#BELOW: calculate a propensity score for each observation\n",
    "#sort by score, pick unique until we get to 260 un-treated\n",
    "\n",
    "import numpy as np\n",
    "import statsmodels.api as sm"
   ]
  },
  {
   "cell_type": "code",
   "execution_count": 11,
   "metadata": {},
   "outputs": [],
   "source": [
    "for col in df.columns:\n",
    "    if df[col].dtype == np.float64:\n",
    "        df[col].fillna(df[col].mean(), inplace=True)\n",
    "\n",
    "df.dropna(inplace=True)"
   ]
  },
  {
   "cell_type": "code",
   "execution_count": 12,
   "metadata": {},
   "outputs": [],
   "source": [
    "df.replace([np.inf, -np.inf], np.nan, inplace=True)\n",
    "\n",
    "df.dropna(inplace=True)"
   ]
  },
  {
   "cell_type": "code",
   "execution_count": 13,
   "metadata": {},
   "outputs": [],
   "source": [
    "df['treated'] = df['ori'].isin(treated_oris).astype(int)"
   ]
  },
  {
   "cell_type": "code",
   "execution_count": 14,
   "metadata": {},
   "outputs": [],
   "source": [
    "cols_to_convert = ['longitude', 'latitude']\n",
    "\n",
    "for col in cols_to_convert:\n",
    "    df[col] = pd.to_numeric(df[col], errors='coerce')\n"
   ]
  },
  {
   "cell_type": "code",
   "execution_count": 18,
   "metadata": {},
   "outputs": [],
   "source": [
    "df.replace([np.inf, -np.inf], np.nan, inplace=True)\n",
    "\n",
    "df.dropna(inplace=True)"
   ]
  },
  {
   "cell_type": "code",
   "execution_count": null,
   "metadata": {},
   "outputs": [],
   "source": [
    "X = df[['longitude', 'latitude', 'pct_female_officers', 'pct_officers_civilians', 'pct_population_officers']]\n",
    "X = sm.add_constant(X)\n",
    "y = df['treated']\n",
    "\n",
    "model = sm.Logit(y, X).fit()\n",
    "df['pscore'] = model.predict(X)"
   ]
  },
  {
   "cell_type": "code",
   "execution_count": 35,
   "metadata": {},
   "outputs": [
    {
     "name": "stdout",
     "output_type": "stream",
     "text": [
      "longitude                   object\n",
      "latitude                    object\n",
      "pct_female_officers        float64\n",
      "pct_officers_civilians     float64\n",
      "pct_population_officers    float64\n",
      "dtype: object\n"
     ]
    }
   ],
   "source": [
    "print(df[['longitude', 'latitude', 'pct_female_officers', 'pct_officers_civilians', 'pct_population_officers']].dtypes)"
   ]
  },
  {
   "cell_type": "code",
   "execution_count": 16,
   "metadata": {},
   "outputs": [],
   "source": [
    "for col in ['longitude', 'latitude', 'pct_female_officers', 'pct_officers_civilians', 'pct_population_officers']:\n",
    "    non_numeric = df[col].apply(lambda x: isinstance(x, (int, float)))\n",
    "    if not non_numeric.all():\n",
    "        print(f\"Non-numeric values found in {col}:\")\n",
    "        print(df[~non_numeric][col].unique())"
   ]
  },
  {
   "cell_type": "code",
   "execution_count": 20,
   "metadata": {},
   "outputs": [],
   "source": [
    "muni_pscores = df.groupby('ori').agg({'pscore': 'mean'}).reset_index()"
   ]
  },
  {
   "cell_type": "code",
   "execution_count": 21,
   "metadata": {},
   "outputs": [
    {
     "data": {
      "text/html": [
       "<div>\n",
       "<style scoped>\n",
       "    .dataframe tbody tr th:only-of-type {\n",
       "        vertical-align: middle;\n",
       "    }\n",
       "\n",
       "    .dataframe tbody tr th {\n",
       "        vertical-align: top;\n",
       "    }\n",
       "\n",
       "    .dataframe thead th {\n",
       "        text-align: right;\n",
       "    }\n",
       "</style>\n",
       "<table border=\"1\" class=\"dataframe\">\n",
       "  <thead>\n",
       "    <tr style=\"text-align: right;\">\n",
       "      <th></th>\n",
       "      <th>ori</th>\n",
       "      <th>pscore</th>\n",
       "    </tr>\n",
       "  </thead>\n",
       "  <tbody>\n",
       "    <tr>\n",
       "      <th>13</th>\n",
       "      <td>AK00116</td>\n",
       "      <td>2.542672e-10</td>\n",
       "    </tr>\n",
       "    <tr>\n",
       "      <th>4</th>\n",
       "      <td>AK00106</td>\n",
       "      <td>2.039463e-10</td>\n",
       "    </tr>\n",
       "    <tr>\n",
       "      <th>11</th>\n",
       "      <td>AK00113</td>\n",
       "      <td>2.002982e-10</td>\n",
       "    </tr>\n",
       "    <tr>\n",
       "      <th>41</th>\n",
       "      <td>AK00164</td>\n",
       "      <td>1.205798e-10</td>\n",
       "    </tr>\n",
       "    <tr>\n",
       "      <th>19</th>\n",
       "      <td>AK00123</td>\n",
       "      <td>6.239321e-11</td>\n",
       "    </tr>\n",
       "    <tr>\n",
       "      <th>...</th>\n",
       "      <td>...</td>\n",
       "      <td>...</td>\n",
       "    </tr>\n",
       "    <tr>\n",
       "      <th>996</th>\n",
       "      <td>CA00411</td>\n",
       "      <td>6.411106e-25</td>\n",
       "    </tr>\n",
       "    <tr>\n",
       "      <th>1277</th>\n",
       "      <td>CA02116</td>\n",
       "      <td>4.380987e-25</td>\n",
       "    </tr>\n",
       "    <tr>\n",
       "      <th>1521</th>\n",
       "      <td>CA03718</td>\n",
       "      <td>3.688684e-25</td>\n",
       "    </tr>\n",
       "    <tr>\n",
       "      <th>36</th>\n",
       "      <td>AK00150</td>\n",
       "      <td>5.238149e-26</td>\n",
       "    </tr>\n",
       "    <tr>\n",
       "      <th>28</th>\n",
       "      <td>AK00133</td>\n",
       "      <td>2.561134e-26</td>\n",
       "    </tr>\n",
       "  </tbody>\n",
       "</table>\n",
       "<p>22020 rows × 2 columns</p>\n",
       "</div>"
      ],
      "text/plain": [
       "          ori        pscore\n",
       "13    AK00116  2.542672e-10\n",
       "4     AK00106  2.039463e-10\n",
       "11    AK00113  2.002982e-10\n",
       "41    AK00164  1.205798e-10\n",
       "19    AK00123  6.239321e-11\n",
       "...       ...           ...\n",
       "996   CA00411  6.411106e-25\n",
       "1277  CA02116  4.380987e-25\n",
       "1521  CA03718  3.688684e-25\n",
       "36    AK00150  5.238149e-26\n",
       "28    AK00133  2.561134e-26\n",
       "\n",
       "[22020 rows x 2 columns]"
      ]
     },
     "execution_count": 21,
     "metadata": {},
     "output_type": "execute_result"
    }
   ],
   "source": [
    "muni_pscores = muni_pscores.sort_values(by=['pscore'], ascending=False)\n",
    "muni_pscores"
   ]
  },
  {
   "cell_type": "code",
   "execution_count": null,
   "metadata": {},
   "outputs": [],
   "source": [
    "#treated_oris\n",
    "muni_pscores = muni_pscores[muni_pscores['ori'].isin(treated_oris) == False]\n",
    "\n",
    "#untreated_oris to keep\n",
    "muni_pscores['ori']\n",
    "\n",
    "control_oris = muni_pscores['ori'].head(260).tolist()\n",
    "control_oris\n",
    "\n",
    "treated_oris = treated_oris.tolist()\n",
    "treated_oris, control_oris"
   ]
  },
  {
   "cell_type": "code",
   "execution_count": 25,
   "metadata": {},
   "outputs": [],
   "source": [
    "all_oris = []\n",
    "\n",
    "for i in control_oris:\n",
    "    all_oris.append(i)\n",
    "\n",
    "for i in treated_oris:\n",
    "    all_oris.append(i)\n",
    "\n",
    "len(all_oris)"
   ]
  },
  {
   "cell_type": "code",
   "execution_count": 44,
   "metadata": {},
   "outputs": [
    {
     "data": {
      "text/plain": [
       "(15552, 66)"
      ]
     },
     "execution_count": 44,
     "metadata": {},
     "output_type": "execute_result"
    }
   ],
   "source": [
    "mdf = df[df['ori'].isin(all_oris)]\n",
    "mdf.shape"
   ]
  },
  {
   "cell_type": "markdown",
   "metadata": {},
   "source": [
    "Remainder of code runs all the regular processing from original regression prep file"
   ]
  },
  {
   "cell_type": "code",
   "execution_count": null,
   "metadata": {},
   "outputs": [],
   "source": [
    "\n",
    "mdf['first_pop'] = mdf.groupby('ori')['population'].transform('first')\n",
    "mdf['first_employment'] = mdf.groupby('ori')['total_employees_officers'].transform('first')"
   ]
  },
  {
   "cell_type": "code",
   "execution_count": 46,
   "metadata": {},
   "outputs": [],
   "source": [
    "#column transformations\n",
    "\n",
    "#drop 0 pop rows to avoid division by 0\n",
    "mdf = mdf.loc[mdf['first_pop'] > 0]\n",
    "\n",
    "#force size mechanism construction\n",
    "median_condition = mdf['first_employment'] > mdf['first_employment'].median()\n",
    "trueval, falseval = 1, 0\n",
    "mdf['employment_median_indicator'] = np.where(median_condition, trueval, falseval)\n",
    "\n",
    "#proportion mechanism\n",
    "mdf['employment_pop_proportion'] = mdf['first_employment']/mdf['first_pop']\n",
    "prop_median_condition = mdf['employment_pop_proportion'] > mdf['employment_pop_proportion'].median()\n",
    "mdf['employment_pop_prop_indicator'] = np.where(prop_median_condition, trueval, falseval)"
   ]
  },
  {
   "cell_type": "code",
   "execution_count": 47,
   "metadata": {},
   "outputs": [],
   "source": [
    "mdf = mdf.sort_values(by=['ori', 'month_code'])"
   ]
  },
  {
   "cell_type": "code",
   "execution_count": 48,
   "metadata": {},
   "outputs": [],
   "source": [
    "#post and pre indicators (for both shooting and implicitly killing)\n",
    "for i in range(10):\n",
    "    mdf[f'PreviousTreatment_{i}'] = mdf.groupby('ori')['total_assaults'].shift(i)\n",
    "    mdf[f'post_{i}'] = mdf[f'PreviousTreatment_{i}'] > 0\n",
    "\n",
    "    #don't do the idxmin thing, shouldn't matter since things are NaN where edge case shifts; drop the NaNs by removing the PreviousTreament_i columns\n",
    "\n",
    "    mdf[f'post_{i}'] = mdf[f'post_{i}'].astype(int)\n",
    "    mdf = mdf.drop(columns=[f'PreviousTreatment_{i}'])"
   ]
  },
  {
   "cell_type": "code",
   "execution_count": 49,
   "metadata": {},
   "outputs": [],
   "source": [
    "#make three pre-treatment month indicators\n",
    "for i in range(1, 4, 1):\n",
    "    mdf[f'FutureTreatment_{i}'] = mdf.groupby('ori')['total_assaults'].shift(-1*i)\n",
    "    mdf[f'pre_{i}'] = mdf[f'FutureTreatment_{i}'] > 0\n",
    "    mdf[f'pre_{i}'] = mdf[f'pre_{i}'].astype(int)\n",
    "    mdf = mdf.drop(columns=[f'FutureTreatment_{i}'])"
   ]
  },
  {
   "cell_type": "code",
   "execution_count": 50,
   "metadata": {},
   "outputs": [],
   "source": [
    "mdf['assault_indicator'] = (mdf['total_assaults'] > 0).astype(int)"
   ]
  },
  {
   "cell_type": "code",
   "execution_count": 35,
   "metadata": {},
   "outputs": [],
   "source": [
    "#bring in UCR data, combine, and run triple diff\n",
    "ucrs = ['ucr_arrests_monthly_index_1974_2018_dta/ucr_arrests_monthly_index_crimes_age_2017.dta',\n",
    "        'ucr_arrests_monthly_index_1974_2018_dta/ucr_arrests_monthly_index_crimes_age_2016.dta',\n",
    "        'ucr_arrests_monthly_index_1974_2018_dta/ucr_arrests_monthly_index_crimes_age_2015.dta',\n",
    "        'ucr_arrests_monthly_index_1974_2018_dta/ucr_arrests_monthly_index_crimes_age_2014.dta',\n",
    "        'ucr_arrests_monthly_index_1974_2018_dta/ucr_arrests_monthly_index_crimes_age_2013.dta']\n",
    "\n",
    "ucr_17, ucr_16, ucr_15, ucr_14, ucr_13 = pd.read_stata(ucrs[0]), pd.read_stata(ucrs[1]), pd.read_stata(ucrs[2]), pd.read_stata(ucrs[3]), pd.read_stata(ucrs[4])\n"
   ]
  },
  {
   "cell_type": "code",
   "execution_count": null,
   "metadata": {},
   "outputs": [],
   "source": [
    "ucr_dfs = [ucr_13, ucr_14, ucr_15, ucr_16, ucr_17]\n",
    "ucr = pd.concat(ucr_dfs, ignore_index=True)\n",
    "ucr['total_arrests'] = ucr['theft_tot_arrests'] + ucr['robbery_tot_arrests'] + ucr['rape_tot_arrests'] + ucr['murder_tot_arrests'] + ucr['mtr_veh_theft_tot_arrests'] + ucr['burglary_tot_arrests'] + ucr['arson_tot_arrests'] + ucr['agg_assault_tot_arrests']\n",
    "ucr['log_total_arrests'] = np.log(ucr['total_arrests'] + 1)"
   ]
  },
  {
   "cell_type": "code",
   "execution_count": null,
   "metadata": {},
   "outputs": [],
   "source": [
    "ucr['month_code'] = ucr['month'].map(month_map) + (ucr['year'] - 2013)*12\n",
    "mdf = mdf.drop_duplicates(subset=['ori', 'month_code'])\n",
    "ucr = ucr.drop_duplicates(subset=['ori', 'month_code'])"
   ]
  },
  {
   "cell_type": "code",
   "execution_count": 38,
   "metadata": {},
   "outputs": [
    {
     "data": {
      "text/plain": [
       "((12072, 85), (846711, 632), (12072, 714))"
      ]
     },
     "execution_count": 38,
     "metadata": {},
     "output_type": "execute_result"
    }
   ],
   "source": [
    "ucr.shape\n",
    "merged = pd.merge(mdf, ucr, on=['ori', 'month_code', 'year'], how='left')\n",
    "mdf.shape, ucr.shape, merged.shape"
   ]
  },
  {
   "cell_type": "code",
   "execution_count": 52,
   "metadata": {},
   "outputs": [],
   "source": [
    "merged.to_stata('event_study_matched_2.dta')"
   ]
  },
  {
   "cell_type": "code",
   "execution_count": 39,
   "metadata": {},
   "outputs": [],
   "source": [
    "#dataset creation for stage 3\n",
    "overall_conditions = [(merged['post_0'] + merged['post_1'] + merged['post_2'] + merged['post_4'] + merged['post_5'] + merged['post_6'] +merged['post_7'] \n",
    "                       + merged['post_8'] + merged['post_9'] >= 1),\n",
    "                      (merged['pre_1'] + merged['pre_2'] + merged['pre_3'] >= 1)]\n",
    "overall_condition_values = [1, 0] #2 is default value\n",
    "merged['post_overall'] = np.select(overall_conditions, overall_condition_values, default=2)"
   ]
  },
  {
   "cell_type": "code",
   "execution_count": 40,
   "metadata": {},
   "outputs": [],
   "source": [
    "avg_data = merged.loc[merged['post_overall'] < 2]"
   ]
  },
  {
   "cell_type": "code",
   "execution_count": 41,
   "metadata": {},
   "outputs": [
    {
     "data": {
      "text/plain": [
       "((12072, 715), (0, 715))"
      ]
     },
     "execution_count": 41,
     "metadata": {},
     "output_type": "execute_result"
    }
   ],
   "source": [
    "merged.shape, avg_data.shape"
   ]
  },
  {
   "cell_type": "code",
   "execution_count": 42,
   "metadata": {},
   "outputs": [],
   "source": [
    "merged.to_stata('event_study_matched.dta')"
   ]
  }
 ],
 "metadata": {
  "kernelspec": {
   "display_name": "Python 3",
   "language": "python",
   "name": "python3"
  },
  "language_info": {
   "codemirror_mode": {
    "name": "ipython",
    "version": 3
   },
   "file_extension": ".py",
   "mimetype": "text/x-python",
   "name": "python",
   "nbconvert_exporter": "python",
   "pygments_lexer": "ipython3",
   "version": "3.9.6"
  }
 },
 "nbformat": 4,
 "nbformat_minor": 2
}
